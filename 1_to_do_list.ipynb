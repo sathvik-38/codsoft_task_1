{
 "cells": [
  {
   "cell_type": "code",
   "execution_count": null,
   "id": "5fe4b983",
   "metadata": {
    "lines_to_next_cell": 1
   },
   "outputs": [],
   "source": [
    "tasks=[]"
   ]
  },
  {
   "cell_type": "code",
   "execution_count": null,
   "id": "d78ec80b",
   "metadata": {
    "lines_to_next_cell": 1
   },
   "outputs": [],
   "source": [
    "def addTask():\n",
    "    task=input(\"Please Enter the Task : \")\n",
    "    tasks.append(task)\n",
    "    print(f\"Task '{task}' added to the list\")"
   ]
  },
  {
   "cell_type": "code",
   "execution_count": null,
   "id": "c5c50cd3",
   "metadata": {},
   "outputs": [],
   "source": [
    "def deleteTask():\n",
    "    listTasks()\n",
    "    try:\n",
    "        taskToDelete=int(input(\"Choose the number you want to Delete\"))\n",
    "        if taskToDelete>=0 and taskToDelete< len(tasks):\n",
    "            tasks.pop(taskToDelete)\n",
    "            print(f\"Task {taskToDelete} has been removed\")\n",
    "        else:\n",
    "            print(f\"Task '{taskToDelete}' was not found\")\n",
    "    except:\n",
    "        print(\"Invlid input Given\")"
   ]
  },
  {
   "cell_type": "code",
   "execution_count": null,
   "id": "9fefe252",
   "metadata": {},
   "outputs": [],
   "source": [
    "def listTasks():\n",
    "    if not tasks:\n",
    "        print(\"There are not tasks inserted in it ??\")\n",
    "    else:\n",
    "        print(\"Current Tasks are Listed here\")\n",
    "        for index, task in enumerate(tasks):\n",
    "            print(f\"Task {index} . 1{task}\")"
   ]
  },
  {
   "cell_type": "code",
   "execution_count": null,
   "id": "a2d87810",
   "metadata": {},
   "outputs": [],
   "source": []
  },
  {
   "cell_type": "code",
   "execution_count": null,
   "id": "d5d18bb5",
   "metadata": {},
   "outputs": [],
   "source": [
    "if __name__==\"__main__\":\n",
    "    print(\"Welcome to the To Do List !\")\n",
    "    while True:\n",
    "        print(\"\\n\")\n",
    "        print(\"Please select any option from the list\")\n",
    "        print(\"-----------------------------------------------\")\n",
    "        print(\"1. Add a new task\")\n",
    "        print(\"2. Delete a task\")\n",
    "        print(\"3. List tasks\")\n",
    "        print(\"4. Quit\")\n",
    "        \n",
    "        choice=input(\"Enter the choice: \")\n",
    "        \n",
    "        if (choice== \"1\"):\n",
    "            addTask()\n",
    "        elif (choice== \"2\"):\n",
    "            deleteTask()\n",
    "        elif (choice== \"3\"):\n",
    "            listTasks()\n",
    "        elif (choice== \"4\"):\n",
    "            break\n",
    "        else:\n",
    "            print(\"Invalid choice Try again\")\n",
    "    print(\"Thanks !\")"
   ]
  }
 ],
 "metadata": {
  "jupytext": {
   "cell_metadata_filter": "-all",
   "main_language": "python",
   "notebook_metadata_filter": "-all"
  }
 },
 "nbformat": 4,
 "nbformat_minor": 5
}
